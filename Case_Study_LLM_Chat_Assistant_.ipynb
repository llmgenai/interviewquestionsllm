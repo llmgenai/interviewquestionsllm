{
  "nbformat": 4,
  "nbformat_minor": 0,
  "metadata": {
    "colab": {
      "provenance": []
    },
    "kernelspec": {
      "name": "python3",
      "display_name": "Python 3"
    },
    "language_info": {
      "name": "python"
    }
  },
  "cells": [
    {
      "cell_type": "markdown",
      "source": [
        "## Installing Llama index"
      ],
      "metadata": {
        "id": "3kRLdkhxEwA6"
      }
    },
    {
      "cell_type": "code",
      "source": [
        "!pip uninstall llama-index  # run this if upgrading from v0.9.x or older\n",
        "!pip install -U llama-index --upgrade --no-cache-dir --force-reinstall"
      ],
      "metadata": {
        "id": "FCeopvKuEvs3"
      },
      "execution_count": null,
      "outputs": []
    },
    {
      "cell_type": "markdown",
      "source": [
        "## Using LlamaParser to parse the documents\n",
        "Register here [LlamaParser](https://cloud.llamaindex.ai) to get access to their API"
      ],
      "metadata": {
        "id": "EXRLx7Y-noVA"
      }
    },
    {
      "cell_type": "code",
      "execution_count": null,
      "metadata": {
        "colab": {
          "base_uri": "https://localhost:8080/"
        },
        "id": "i0hL3nZoEl93",
        "outputId": "f4fce1e4-d752-470f-c45a-5f472a13b1c1"
      },
      "outputs": [
        {
          "name": "stdout",
          "output_type": "stream",
          "text": [
            "··········\n"
          ]
        }
      ],
      "source": [
        "import nest_asyncio\n",
        "nest_asyncio.apply()\n",
        "from getpass import getpass\n",
        "\n",
        "from llama_parse import LlamaParse\n",
        "\n",
        "parser = LlamaParse(\n",
        "    api_key=getpass(),  # can also be set in your env as LLAMA_CLOUD_API_KEY\n",
        "    result_type=\"markdown\",  # \"markdown\" and \"text\" are available\n",
        "    num_workers=4, # if multiple files passed, split in `num_workers` API calls\n",
        "    verbose=True,\n",
        "    language=\"en\" # Optionaly you can define a language, default=en\n",
        ")"
      ]
    },
    {
      "cell_type": "code",
      "source": [
        "individual_documents = parser.load_data([\"./277713967-Health-Insurance-Policy.pdf\"])\n",
        "individual_documents[0].metadata.update({\"policy_id\":\"P/700002/01/2015/007530\"}) ##assuming we have policy_id for all the documents"
      ],
      "metadata": {
        "colab": {
          "base_uri": "https://localhost:8080/"
        },
        "id": "Tq8lNCS_FOmI",
        "outputId": "1b144030-4b68-40b2-de56-1f0d41eab547"
      },
      "execution_count": null,
      "outputs": [
        {
          "output_type": "stream",
          "name": "stdout",
          "text": [
            "Started parsing the file under job_id 29740ad3-038c-4008-b1f0-1f69256c0ca0\n"
          ]
        }
      ]
    },
    {
      "cell_type": "code",
      "source": [
        "group_policy_documents = parser.load_data([\"./564130930-Individual-Health-Insurance-Policy-Prospectus.pdf\"])"
      ],
      "metadata": {
        "colab": {
          "base_uri": "https://localhost:8080/"
        },
        "id": "YUwKxB2vFicT",
        "outputId": "127f6165-1769-4f8e-97b3-ce90edbf8e2e"
      },
      "execution_count": null,
      "outputs": [
        {
          "output_type": "stream",
          "name": "stdout",
          "text": [
            "Started parsing the file under job_id ba14aa97-ee43-4129-b41b-2c81b13b5a0a\n"
          ]
        }
      ]
    },
    {
      "cell_type": "markdown",
      "source": [
        "## Setting up a vector DB"
      ],
      "metadata": {
        "id": "IXfD4caFFqIJ"
      }
    },
    {
      "cell_type": "code",
      "source": [
        "!pip install langchain\n",
        "!pip install llama-index-embeddings-langchain\n",
        "!pip install sentence_transformers"
      ],
      "metadata": {
        "id": "A0D9xeoSFnd4"
      },
      "execution_count": null,
      "outputs": []
    },
    {
      "cell_type": "markdown",
      "source": [
        "## Setting up `BAAI/bge-base-en` as our embedding model"
      ],
      "metadata": {
        "id": "Nob7XOIFqjYk"
      }
    },
    {
      "cell_type": "code",
      "source": [
        "from langchain.embeddings.huggingface import HuggingFaceBgeEmbeddings\n",
        "from llama_index.core import Settings\n",
        "\n",
        "Settings.embed_model = HuggingFaceBgeEmbeddings(model_name=\"BAAI/bge-base-en\")"
      ],
      "metadata": {
        "colab": {
          "base_uri": "https://localhost:8080/"
        },
        "id": "PS4d20LWFt_i",
        "outputId": "15d9f856-6de9-48ad-9af9-15f84b77c960"
      },
      "execution_count": null,
      "outputs": [
        {
          "output_type": "stream",
          "name": "stderr",
          "text": [
            "/usr/local/lib/python3.10/dist-packages/huggingface_hub/utils/_token.py:88: UserWarning: \n",
            "The secret `HF_TOKEN` does not exist in your Colab secrets.\n",
            "To authenticate with the Hugging Face Hub, create a token in your settings tab (https://huggingface.co/settings/tokens), set it as secret in your Google Colab and restart your session.\n",
            "You will be able to reuse this secret in all of your notebooks.\n",
            "Please note that authentication is recommended but still optional to access public models or datasets.\n",
            "  warnings.warn(\n"
          ]
        }
      ]
    },
    {
      "cell_type": "markdown",
      "source": [
        "## Setting up\n",
        "\n",
        "\n",
        "*   Chunk size as `512` tokens and `128` as overlapping chunks to preserve the context\n",
        "*   LLM model `gpt-3.5-turbo` with temprature as `0`\n",
        "\n"
      ],
      "metadata": {
        "id": "Q2y8rdBLqqwM"
      }
    },
    {
      "cell_type": "code",
      "source": [
        "from llama_index.llms.openai import OpenAI\n",
        "import os\n",
        "os.environ['OPENAI_API_KEY'] = getpass()\n",
        "api_key = os.getenv('OPENAI_API_KEY')\n",
        "Settings.llm = OpenAI(model='gpt-3.5-turbo',temperature=0,api_key=api_key)\n",
        "\n",
        "# build index\n",
        "Settings.chunk_size = 512\n",
        "Settings.chunk_overlapchunk=128"
      ],
      "metadata": {
        "id": "qqgUw66wFzRu"
      },
      "execution_count": null,
      "outputs": []
    },
    {
      "cell_type": "code",
      "source": [
        "from llama_index.core import (\n",
        "    SimpleDirectoryReader,\n",
        "    VectorStoreIndex,\n",
        "    StorageContext,\n",
        "    load_index_from_storage,\n",
        ")"
      ],
      "metadata": {
        "id": "z6q4iq6wGUfo"
      },
      "execution_count": null,
      "outputs": []
    },
    {
      "cell_type": "markdown",
      "source": [
        "## Setting up individual policy vector database"
      ],
      "metadata": {
        "id": "Mb6gXNHspvOt"
      }
    },
    {
      "cell_type": "code",
      "source": [
        "individual_nodes = Settings.node_parser.get_nodes_from_documents(individual_documents)\n",
        "# initialize storage context (by default it's in-memory)\n",
        "indi_storage_context = StorageContext.from_defaults()\n",
        "indi_storage_context.docstore.add_documents(individual_nodes)\n",
        "ind_vector_index = VectorStoreIndex(individual_nodes, storage_context=indi_storage_context)"
      ],
      "metadata": {
        "id": "VlumxwnnGYDc"
      },
      "execution_count": null,
      "outputs": []
    },
    {
      "cell_type": "code",
      "source": [
        "%pip install llama-index-postprocessor-rankgpt-rerank"
      ],
      "metadata": {
        "id": "4JenCoflH-vt"
      },
      "execution_count": null,
      "outputs": []
    },
    {
      "cell_type": "markdown",
      "source": [
        "## Setting up Individual policy retrival + ranking with meta-data filtering"
      ],
      "metadata": {
        "id": "pa8D3kzxp5A-"
      }
    },
    {
      "cell_type": "code",
      "source": [
        "from llama_index.core.retrievers import VectorIndexRetriever\n",
        "from llama_index.core import QueryBundle\n",
        "from llama_index.postprocessor.rankgpt_rerank import RankGPTRerank\n",
        "\n",
        "def individual_retrieved_nodes(\n",
        "    query_str,filter,vector_index=ind_vector_index, vector_top_k=10, reranker_top_n=3, with_reranker=False\n",
        "):\n",
        "    query_bundle = QueryBundle(query_str)\n",
        "    # configure retriever\n",
        "    retriever = VectorIndexRetriever(\n",
        "        index=vector_index,\n",
        "        similarity_top_k=vector_top_k,\n",
        "        filters=filter\n",
        "    )\n",
        "    retrieved_nodes = retriever.retrieve(query_bundle)\n",
        "\n",
        "    if with_reranker:\n",
        "        # configure reranker\n",
        "        reranker = RankGPTRerank(\n",
        "            llm=OpenAI(\n",
        "                model=\"gpt-3.5-turbo-16k\",\n",
        "                temperature=0.0,\n",
        "                api_key=api_key,\n",
        "            ),\n",
        "            top_n=reranker_top_n,\n",
        "            verbose=True,\n",
        "        )\n",
        "        retrieved_nodes = reranker.postprocess_nodes(\n",
        "            retrieved_nodes, query_bundle\n",
        "        )\n",
        "\n",
        "    return retrieved_nodes"
      ],
      "metadata": {
        "id": "i71YEyMjICx7"
      },
      "execution_count": null,
      "outputs": []
    },
    {
      "cell_type": "markdown",
      "source": [
        "## Sample function call with meta-data filtering"
      ],
      "metadata": {
        "id": "aSlAr-UmqDlv"
      }
    },
    {
      "cell_type": "code",
      "source": [
        "from llama_index.core.vector_stores import ExactMatchFilter, MetadataFilters\n",
        "filters = MetadataFilters(filters=[ExactMatchFilter(key=\"policy_id\", value=\"P/700002/01/2015/007530\")])\n",
        "answer = individual_retrieved_nodes(\"Sum Insured or Base Cover or LIMIT OF COVERAGE\",vector_index=ind_vector_index,filter = filters,with_reranker=True)"
      ],
      "metadata": {
        "colab": {
          "base_uri": "https://localhost:8080/"
        },
        "id": "WNQll9tZIEWe",
        "outputId": "9642a520-a1a4-4f64-d2a3-e5b1f0b955a7"
      },
      "execution_count": null,
      "outputs": [
        {
          "output_type": "stream",
          "name": "stdout",
          "text": [
            "After Reranking, new rank list for nodes: [3, 0, 1, 2, 4, 5, 6, 7]"
          ]
        }
      ]
    },
    {
      "cell_type": "markdown",
      "source": [
        "## Group Policy Vector database"
      ],
      "metadata": {
        "id": "dqoUIFLgqK2a"
      }
    },
    {
      "cell_type": "code",
      "source": [
        "group_policy_nodes = Settings.node_parser.get_nodes_from_documents(group_policy_documents)\n",
        "# initialize storage context (by default it's in-memory)\n",
        "group_storage_context = StorageContext.from_defaults()\n",
        "group_storage_context.docstore.add_documents(group_policy_nodes)\n",
        "group_vector_index = VectorStoreIndex(group_policy_nodes, storage_context=group_storage_context)"
      ],
      "metadata": {
        "id": "l2qL9DGnIil7"
      },
      "execution_count": null,
      "outputs": []
    },
    {
      "cell_type": "markdown",
      "source": [
        "## Group Policy retrival + Ranking function"
      ],
      "metadata": {
        "id": "EdcrYahZqUEr"
      }
    },
    {
      "cell_type": "code",
      "source": [
        "def group_retrieved_nodes(\n",
        "    query_str,vector_index=group_vector_index, vector_top_k=10, reranker_top_n=3, with_reranker=True\n",
        "):\n",
        "    query_bundle = QueryBundle(query_str)\n",
        "    # configure retriever\n",
        "    retriever = VectorIndexRetriever(\n",
        "        index=vector_index,\n",
        "        similarity_top_k=vector_top_k\n",
        "    )\n",
        "    retrieved_nodes = retriever.retrieve(query_bundle)\n",
        "\n",
        "    if with_reranker:\n",
        "        # configure reranker\n",
        "        reranker = RankGPTRerank(\n",
        "            llm=OpenAI(\n",
        "                model=\"gpt-3.5-turbo-16k\",\n",
        "                temperature=0.0,\n",
        "                api_key=api_key,\n",
        "            ),\n",
        "            top_n=reranker_top_n,\n",
        "            verbose=True,\n",
        "        )\n",
        "        retrieved_nodes = reranker.postprocess_nodes(\n",
        "            retrieved_nodes, query_bundle\n",
        "        )\n",
        "\n",
        "    return retrieved_nodes"
      ],
      "metadata": {
        "id": "5iDmIwLQop3t"
      },
      "execution_count": null,
      "outputs": []
    },
    {
      "cell_type": "markdown",
      "source": [
        "## Sample function call"
      ],
      "metadata": {
        "id": "igdf83bzqbQL"
      }
    },
    {
      "cell_type": "code",
      "source": [
        "answer = group_retrieved_nodes(\"claim document requirements\",with_reranker=True)"
      ],
      "metadata": {
        "colab": {
          "base_uri": "https://localhost:8080/"
        },
        "id": "QIMZ4BBqP2Bv",
        "outputId": "4ab0d8ba-7d3d-4e1f-9ae3-80564d641f6c"
      },
      "execution_count": null,
      "outputs": [
        {
          "output_type": "stream",
          "name": "stdout",
          "text": [
            "After Reranking, new rank list for nodes: [0, 6, 3, 4, 1, 2, 5, 7, 8, 9]"
          ]
        }
      ]
    },
    {
      "cell_type": "markdown",
      "source": [
        "## Setting up LLM tools"
      ],
      "metadata": {
        "id": "yoJUF9Evo8Xv"
      }
    },
    {
      "cell_type": "code",
      "source": [
        "from llama_index.core.tools import QueryEngineTool\n",
        "from llama_index.core.tools import BaseTool, FunctionTool\n",
        "\n",
        "def group_document_search(query: str)-> str:\n",
        "  \"\"\"\n",
        "  This function takes the user query as an input\n",
        "        very very important, do not ignore - Use this function to find any general detailed of group policy\n",
        "        where you can find answers like, below are some few examples\n",
        "  1. what are common terms for policy?\n",
        "  2. What is covered and not covered in this policy?\n",
        "  3. what is the claim process?\n",
        "  4. what is supporting documents required for the claim?\n",
        "\n",
        "  Use nicely formatted answers for the user (Mostly in markdown text)\n",
        "  \"\"\"\n",
        "  top_retrival = group_retrieved_nodes(query,with_reranker=True)\n",
        "  result_dicts = []\n",
        "  for node in top_retrival:\n",
        "      result_dict = {\"Score\": node.score, \"Text\": node.node.get_text()}\n",
        "      result_dicts.append(result_dict)\n",
        "  return result_dicts\n",
        "\n",
        "group_document_search_tool = FunctionTool.from_defaults(fn=group_document_search)\n",
        "\n",
        "def individual_document_search(query:str,policy_id:str)->str:\n",
        "  \"\"\"\n",
        "  This function takes the user query and policy id as inputs, if the policy id is not present then use policy_api tool to find the policy id.\n",
        "\n",
        "very very important only use this function to find policy details of individual owners for a policy, Below are some examples\n",
        "1. policy individual names\n",
        "2. policy sum insured\n",
        "3. Details of Insured Persons\n",
        "very very important -- do not call this function unless you require very specific details above personal details given in point 1 to 3\n",
        "  \"\"\"\n",
        "  filters = MetadataFilters(filters=[ExactMatchFilter(key=\"policy_id\", value=policy_id)]) ## always use policy id as filter\n",
        "  top_retrival = individual_retrieved_nodes(query,filter = filters,with_reranker=True)\n",
        "  result_dicts = []\n",
        "  for node in top_retrival:\n",
        "      result_dict = {\"Score\": node.score, \"Text\": node.node.get_text()}\n",
        "      result_dicts.append(result_dict)\n",
        "  return result_dicts\n",
        "\n",
        "individual_document_search_tool = FunctionTool.from_defaults(fn=individual_document_search)\n",
        "\n",
        "def coverage_left(total_claimed: int, total_covered: int) -> int:\n",
        "    \"\"\"This function provides how much coverage is left on a policy\n",
        "    total_claimed - can be found from tool policy_api\n",
        "    total_covered - can be found out from individual_document_search tool\n",
        "    \"\"\"\n",
        "    return total_covered - total_claimed\n",
        "\n",
        "coverage_left_tool = FunctionTool.from_defaults(fn=coverage_left)\n",
        "\n",
        "def policy_api(name) -> str:\n",
        "    \"\"\"Use this function return policy number for a given user name, if there is\n",
        "    no policy number given in the document always use this function to find policy number\n",
        "    very very important, if no name is provided then ask for the name from user\n",
        "    very important to call individual_document_search tool to find total sum insured of a policy\n",
        "    \"\"\"\n",
        "    return {\"Policy_id\":\"P/700002/01/2015/007530\",\"claimed_amount\":\"10000\"}\n",
        "\n",
        "\n",
        "policy_api_tool = FunctionTool.from_defaults(fn=policy_api)"
      ],
      "metadata": {
        "id": "Q-O7wUEko4AP"
      },
      "execution_count": null,
      "outputs": []
    },
    {
      "cell_type": "markdown",
      "source": [
        "## Setting up LLM Agents"
      ],
      "metadata": {
        "id": "jQrZJoijq2vG"
      }
    },
    {
      "cell_type": "code",
      "source": [
        "from llama_index.agent.openai import OpenAIAgent\n",
        "\n",
        "agent = OpenAIAgent.from_tools(\n",
        "    name=\"Policy Bot\",\n",
        "    instructions=\"\"\"You are a bot designed to answer questions about the given policy.\n",
        "     Always look for user name or policy number in the query before using any tool\n",
        "     If user name is provided then use policy_api tool to find correct policy number\n",
        "     very very important not to call any tool before getting user's name or policy number\n",
        "     \"\"\",\n",
        "    tools=[group_document_search_tool,individual_document_search_tool,coverage_left_tool,policy_api_tool],\n",
        "    verbose=True,\n",
        "    run_retrieve_sleep_time=1.0,\n",
        ")"
      ],
      "metadata": {
        "id": "Gfv_LQ8arHXX"
      },
      "execution_count": null,
      "outputs": []
    },
    {
      "cell_type": "markdown",
      "source": [
        "## Chatting with policy Bot"
      ],
      "metadata": {
        "id": "Crj9DjE3q5I0"
      }
    },
    {
      "cell_type": "markdown",
      "source": [
        "## Question 1\n",
        "\n",
        "It does the below things to get the answer\n",
        "\n",
        "\n",
        "* LLM agent understands the query and calls the `group_document_search` tool\n",
        "* The tool internally queries group policy vector DB & ranks the results and then passes the top N  (3 in this case) context\n",
        "* The LLM then writes an answer based on the provided context.\n",
        "\n"
      ],
      "metadata": {
        "id": "hKtQ1uN0rAuV"
      }
    },
    {
      "cell_type": "code",
      "source": [
        "response = agent.chat(\"what are the supporting documents required for the claim?\")\n",
        "print(str(response))"
      ],
      "metadata": {
        "colab": {
          "base_uri": "https://localhost:8080/"
        },
        "id": "ZxoXXVXJrjoR",
        "outputId": "57dfdd88-8c2f-44a5-8797-6d476fbd1577"
      },
      "execution_count": null,
      "outputs": [
        {
          "output_type": "stream",
          "name": "stdout",
          "text": [
            "Added user message to memory: what are the supporting documents required for the claim?\n",
            "=== Calling Function ===\n",
            "Calling function: group_document_search with args: {\"query\":\"supporting documents required for the claim\"}\n",
            "After Reranking, new rank list for nodes: [0, 1, 2, 5, 6, 7, 8, 9, 3, 4]Got output: [{'Score': 0.8412200689579963, 'Text': 'ii. The Company shall only accept bills/invoices/medical treatment related documents only in the Insured Person’s name for whom the claim is submitted.\\n\\niii. The Insured Person shall also give the TPA / Company such additional information and assistance as the TPA / Company may require in dealing with the claim including an authorization to obtain Medical and other records from the hospital, lab, etc.\\n\\niv. All the documents submitted to TPA shall be electronically collected by us for settlement/denial of the claims by the appropriate authority.\\n\\nv. Any medical practitioner or Authorized Person authorized by the TPA / Company shall be allowed to examine the Insured Person in case of any alleged injury or disease leading to Hospitalization if so required.\\n\\n### F. Claim Settlement (provision for Penal Interest)\\n\\ni. The Company shall settle or reject a claim, as the case may be, within 30 days from the date of receipt of last necessary document.\\n\\nii. In the case of delay in the payment of a claim, the Company shall be liable to pay interest to the Policyholder from the date of receipt of last necessary document to the date of payment of claim at a rate 2% above the bank rate.\\n\\niii. However, where the circumstances of a claim warrant an investigation in the opinion of the Company, it shall initiate and complete such investigation at the earliest, in any case not later than 30 days from the date of receipt of last necessary document. In such cases, the Company shall settle or reject the claim within 45 days from the date of receipt of last necessary document.\\n\\nIndividual Health Insurance Policy – Prospectus\\n\\nUIN: UIIHLIP21114V032021\\n---\\nUnited India Insurance Company Limited\\n\\nCorporate Identity Number: U93090TN1938GOI000108\\n\\nRegistered Office: 24 Whites Road, Chennai – 600014\\n\\nIRDAI REG NO.545\\n\\niv. In case of delay beyond stipulated 45 days, the company shall be liable to pay interest to the Policyholder at a rate 2% above the bank rate from the date of receipt of last necessary document to the date of payment of claim.\\n\\n(Explanation: \"Bank rate\" shall mean the rate fixed by the Reserve Bank of India (RBl) at the beginning of the financial year in which claim has fallen due).\\n\\nServices Offered by TPA\\n\\nServicing of claims i.e.'}, {'Score': 0.8351149046939964, 'Text': 'supported by pe prescription from attending medical practitioner.\\niii. Medical history of pe patient recorded, bills (including break up of charges) and payment receipts duly supported by pe prescription from attending medical practitioner/hospital.\\niv. Discharge certificate/summary from pe hospital.\\nv. Cash-memo from pe Diagnostic Centre(s)/hospital(s)/chemist(s) supported by proper prescription.\\nvi. Payment receipts from doctors, surgeons, and anaespetist.\\nvii. Bills, receipt, Sticker of pe Implants.\\nviii. Any oper document required by Company/TPA\\n\\nNote\\n\\nIn the event of a claim lodged as per Settlement under multiple policies clause and the original documents having been submitted to the other Insurer, the Company may accept the duly certified documents listed under condition 18 (D) above and claim settlement advice duly certified by the other Insurer subject to satisfaction of the Company.\\n\\n### E. Time Limit for Submission of Documents\\n\\n|Type of Claim|Time Limit for Submission of Documents to Company / TPA|\\n|---|---|\\n|Reimbursement of hospitalization and pre-hospitalization expenses (limited to 30 days)|Within 15 (fifteen) days of date of discharge from hospital|\\n|Reimbursement of post-hospitalization expenses (limited to 60 days)|Within 15 (fifteen) days from completion of post-hospitalization treatment|\\n|Reimbursement of Cost of Health Check-up|Within 15 (fifteen) days from Health Check-up|\\n\\nNote\\n\\ni. Waiver of this Condition may be considered in extreme cases of hardship where it is proved to the satisfaction of the Company that under the circumstances in which the Insured was placed it was not possible for him or any other person to give such notice or file claim within the prescribed time-limit.\\n\\nii. The Company shall only accept bills/invoices/medical treatment related documents only in the Insured Person’s name for whom the claim is submitted.\\n\\niii. The Insured Person shall also give the TPA / Company such additional information and assistance as the TPA / Company may require in dealing with the claim including an authorization to obtain Medical and other records from the hospital, lab, etc.\\n\\niv. All the documents submitted to TPA shall be electronically collected by us for settlement/denial of the claims by the appropriate authority.'}, {'Score': 0.8321979209457938, 'Text': '3. Claims for Cost of Health Check-up will be settled on reimbursement basis on production of test reports and cash receipts within the prescribed time limit.\\n\\nIndividual Health Insurance Policy – Prospectus\\n\\nUIN: UIIHLIP21114V032021\\n---\\n## United India Insurance Company Limited\\n\\nCorporate Identity Number: U93090TN1938GOI000108\\n\\nRegistered Office: 24 Whites Road, Chennai – 600014\\n\\nIRDAI REG NO.545\\n\\n### D. Supporting Documents\\n\\nThe claim is to be supported with the following original documents and submitted within the prescribed time limit.\\n\\ni. Duly completed claim form\\nii. Attending medical practitioner’s / surgeon’s certificate regarding diagnosis/nature of operation performed, along wip date of diagnosis, advise for admission, investigation test reports etc. supported by pe prescription from attending medical practitioner.\\niii. Medical history of pe patient recorded, bills (including break up of charges) and payment receipts duly supported by pe prescription from attending medical practitioner/hospital.\\niv. Discharge certificate/summary from pe hospital.\\nv. Cash-memo from pe Diagnostic Centre(s)/hospital(s)/chemist(s) supported by proper prescription.\\nvi. Payment receipts from doctors, surgeons, and anaespetist.\\nvii. Bills, receipt, Sticker of pe Implants.\\nviii. Any oper document required by Company/TPA\\n\\nNote\\n\\nIn the event of a claim lodged as per Settlement under multiple policies clause and the original documents having been submitted to the other Insurer, the Company may accept the duly certified documents listed under condition 18 (D) above and claim settlement advice duly certified by the other Insurer subject to satisfaction of the Company.'}]\n",
            "========================\n",
            "\n",
            "The supporting documents required for a claim include:\n",
            "\n",
            "1. Duly completed claim form\n",
            "2. Attending medical practitioner’s/surgeon’s certificate regarding diagnosis/nature of operation performed, along with the date of diagnosis, advice for admission, investigation test reports, etc. supported by the prescription from the attending medical practitioner.\n",
            "3. Medical history of the patient recorded, bills (including a breakdown of charges), and payment receipts supported by the prescription from the attending medical practitioner/hospital.\n",
            "4. Discharge certificate/summary from the hospital.\n",
            "5. Cash memo from the Diagnostic Centre(s)/hospital(s)/chemist(s) supported by a proper prescription.\n",
            "6. Payment receipts from doctors, surgeons, and anesthetist.\n",
            "7. Bills, receipts, stickers of implants.\n",
            "8. Any other document required by the Company/TPA.\n",
            "\n",
            "These documents need to be submitted within the prescribed time limit for claim processing.\n"
          ]
        }
      ]
    },
    {
      "cell_type": "markdown",
      "source": [
        "## Question 2"
      ],
      "metadata": {
        "id": "zgTV1oxZrlV5"
      }
    },
    {
      "cell_type": "code",
      "source": [
        "response = agent.chat(\"Does plastic surgery covered in my insurance?\")\n",
        "print(str(response))"
      ],
      "metadata": {
        "colab": {
          "base_uri": "https://localhost:8080/"
        },
        "id": "wkiJ6me0tCrO",
        "outputId": "5f679637-4911-431f-f642-da7d8e5e3a55"
      },
      "execution_count": null,
      "outputs": [
        {
          "output_type": "stream",
          "name": "stdout",
          "text": [
            "Added user message to memory: Does plastic surgery covered in my insurance?\n",
            "=== Calling Function ===\n",
            "Calling function: group_document_search with args: {\"query\":\"coverage for plastic surgery\"}\n",
            "After Reranking, new rank list for nodes: [4, 7, 0, 1, 2, 3, 5, 6, 8, 9]Got output: [{'Score': 0.8295149659660707, 'Text': '1,00,000, whichever is less|Up to 25% of SI or Rs. 1,00,000, whichever is less|\\n|Major Surgeries#|Actuals|Up to 70% of SI|Up to 70% of SI|\\n|Pre-Hospitalisation|30 Days|30 Days subject to max of 10% of SI|30 Days subject to max of 10% of SI|\\n|Post-Hospitalisation|60 Days|60 Days subject to max of 10% of SI|60 Days subject to max of 10% of SI|\\n|Domiciliary Hospitalisation|Covered|Covered|Covered|\\n|Ayurvedic Treatment|Covered|Covered|Covered|\\n|Modern Treatment Methods#|Covered|Covered|Covered|\\n|Cost of Health Check Up|Insured Person subject to a maximum of Rs. 5000.|Insured Person subject to a maximum of Rs. 5000.|Insured Person subject to a maximum of Rs. 5000.|\\n\\n|Optional Cover|Platinum Plan|Gold Plan|Senior Citizen Plan|\\n|---|---|---|---|\\n|Road Ambulance|Up to a maximum of Rs.2500/- per person per policy period.|Up to a maximum of Rs.2500/- per person per policy period.|Up to a maximum of Rs.2500/- per person per policy period.|\\n|Daily Cash|Up to Rs. 2500/5000 per person per policy period|Up to Rs. 2500/5000 per person per policy period|Up to Rs. 2500/5000 per person per policy period|\\n\\n# Please refer to Policy Wordings for details on what constitutes Major Surgeries and Modern Treatment Methods\\n\\nIndividual Health Insurance Prospectus\\n\\nUIN: UIIHLIP21114V032021'}, {'Score': 0.8242365538523689, 'Text': 'This includes: i. Any type of contraception, sterilization ii. Assisted Reproduction services including artificial insemination and advanced reproductive technologies such as IVF, ZIFT, GIFT, ICSI iii. Gestational Surrogacy iv. Reversal of sterilization|\\n|6.9|Maternity (Code-Excl18): i. Medical treatment expenses traceable to child birth (Including complicated deliveries and caesarean sections incurred during hospitalisation) except ectopic pregnancy; ii. Expenses towards miscarriage (unless due to an accident) and lawful medical termination of pregnancy during the policy period.|\\n|6.10|Circumcision unless necessary for Treatment of an Illness or Injury not excluded hereunder or due to an Accident.|\\n|6.11|Cost of routine medical examination and preventive health check-up unless as provided for in Base Cover 5.6.|\\n|6.12|Investigation & Evaluation (Code-Excl04): i. Expenses related to any admission primarily for diagnostics and evaluation purposes only are excluded; ii. Any diagnostic expenses which are not related or not incidental to the current diagnosis and treatment are excluded.|\\n|6.13|Unproven Treatments (Code-Excl16): Expenses related to any unproven treatment, services and supplies for or in connection with any treatment. Unproven treatments are treatments, procedures or supplies that lack significant medical documentation to support their effectiveness.|\\n|6.14|Change-of-Gender treatments (Code-Excl07): Expenses related to any treatment, including surgical management, to change characteristics of the body to those of the opposite sex.|\\n|6.15|Cosmetic or plastic Surgery (Code-Excl08): Expenses for cosmetic or plastic surgery or any treatment to change appearance unless for reconstruction following an Accident, Burn(s) or Cancer or as part of medically necessary treatment to remove a direct and immediate health risk to the Insured. For this to be considered a medical necessity, it must be certified by the attending Medical Practitioner.|\\n|6.16|Vaccination or inoculation of any kind unless it is post animal bite.|\\n|6.17|i. Routine eye-examination expenses, cost of spectacles, contact lenses; ii. Cost of hearing aids; including optometric therapy; iii.'}, {'Score': 0.8468526490615826, 'Text': '1 Lac per policy period|\\n|7|Robotic Surgeries (Including Robotic Assisted Surgeries)|Up to 75% of Sum Insured per policy period for claims involving Robotic Surgeries for (i) the treatment of any disease involving Central Nervous System irrespective of aetiology; (ii) Malignancies Up to 50% of Sum Insured per policy period for claims involving Robotic Surgeries for other diseases|\\n|8|Stereotactic Radio Surgeries|Up to 50% of Sum Insured per policy period for claims involving Stereotactic Surgeries|\\n|9|Bronchial Thermoplasty|Up to 30% of Sum Insured subject to a maximum of Rs.3 Lacs per policy period for claims involving Bronchial Thermoplasty.|\\n|10|Vaporisation of the Prostate (Green laser treatment for holmium laser treatment)|Up to 30% of Sum Insured subject to a maximum of Rs.2 Lacs per policy period.|\\n|11|Intra Operative Neuro Monitoring (IONM)|Up to 15% of Sum Insured per policy period for claims involving Intra Operative Neuro Monitoring subject to a maximum of Rs. 1 Lac per policy period.|\\n|12|Stem Cell Therapy: Hematopoietic Stem Cells for bone marrow transplant for haematological conditions to be covered only|No additional sub-limit|\\n\\nIndividual Health Insurance Policy – Prospectus UIN: UIIHLIP21114V032021\\n---\\n## United India Insurance Company Limited\\n\\nCorporate Identity Number: U93090TN1938GOI000108\\n\\nRegistered Office: 24 Whites Road, Chennai – 600014\\n\\nIRDAI REG NO.545\\n\\nNote: If, for a given admissible claim, limits as listed in the Table above AND limits mentioned in Clause 5.1.2 are applicable simultaneously, then the lower of the two limits shall apply.\\n\\nExample:\\n\\nA policyholder with a Sum Insured of Rs. 5 Lakhs makes an admissible claim of Rs. 1 Lakh for Robotic Cataract Surgery. As per Table above, his limit is 50% of his SI (2.5 Lakhs) and thus he is entitled to the full amount of Rs. 1 Lakh.\\n\\nHowever as per Clause 5.1.2, he is entitled to only Rs. 40,000.'}]\n",
            "========================\n",
            "\n",
            "Cosmetic or plastic surgery is generally not covered under insurance unless it is for reconstruction following an accident, burn, or cancer, or as part of medically necessary treatment to remove a direct and immediate health risk to the insured. The necessity for cosmetic or plastic surgery must be certified by the attending medical practitioner for it to be considered for coverage.\n"
          ]
        }
      ]
    },
    {
      "cell_type": "markdown",
      "source": [
        "## Question 3\n",
        "* LLM agent understands the query and calls `policy_api` tool\n",
        "* Since policy API needs `name` as mandatory input, LLM responds by asking the name of the user."
      ],
      "metadata": {
        "id": "1rgLhSHbrpnZ"
      }
    },
    {
      "cell_type": "code",
      "source": [
        "response = agent.chat(\"what is my policy number?\")\n",
        "print(str(response))"
      ],
      "metadata": {
        "colab": {
          "base_uri": "https://localhost:8080/"
        },
        "id": "C_vDGkECt-4d",
        "outputId": "287bf1c5-96fd-4969-8fd1-b6bf8d726fdb"
      },
      "execution_count": null,
      "outputs": [
        {
          "output_type": "stream",
          "name": "stdout",
          "text": [
            "Added user message to memory: what is my policy number?\n",
            "=== Calling Function ===\n",
            "Calling function: policy_api with args: {}\n",
            "Got output: Error: policy_api() missing 1 required positional argument: 'name'\n",
            "========================\n",
            "\n",
            "I need your name to find your policy number. Can you please provide me with your name?\n"
          ]
        }
      ]
    },
    {
      "cell_type": "markdown",
      "source": [
        "## Follow up question"
      ],
      "metadata": {
        "id": "yvU98JCCr3--"
      }
    },
    {
      "cell_type": "code",
      "source": [
        "response = agent.chat(\"My name is ASHWANI KUMAR RAI?\")\n",
        "print(str(response))"
      ],
      "metadata": {
        "colab": {
          "base_uri": "https://localhost:8080/"
        },
        "id": "wXaJbAhS1202",
        "outputId": "b1296217-e019-438a-a8a3-c82552e89d70"
      },
      "execution_count": null,
      "outputs": [
        {
          "output_type": "stream",
          "name": "stdout",
          "text": [
            "Added user message to memory: My name is ASHWANI KUMAR RAI?\n",
            "=== Calling Function ===\n",
            "Calling function: policy_api with args: {\"name\":\"ASHWANI KUMAR RAI\"}\n",
            "Got output: {'Policy_id': 'P/700002/01/2015/007530', 'claimed_amount': '10000'}\n",
            "========================\n",
            "\n",
            "Your policy number is P/700002/01/2015/007530. If you have any specific queries regarding this policy, feel free to ask.\n"
          ]
        }
      ]
    },
    {
      "cell_type": "markdown",
      "source": [
        "## Question 4\n",
        "* The agent correctly identifies `individual_document_search` tools and finds context matching the total sum insured.\n",
        "* It correctly identifies that the total covered is 300000\n",
        "* Since in an earlier conversation it already has `claimed_amount` it directly calls `coverage_left` tool to calculate remaining coverage."
      ],
      "metadata": {
        "id": "Jed-QK1Ar8fv"
      }
    },
    {
      "cell_type": "code",
      "source": [
        "response = agent.chat(\"how much total coverage do I have left?\")\n",
        "print(str(response))"
      ],
      "metadata": {
        "colab": {
          "base_uri": "https://localhost:8080/"
        },
        "id": "WNz5u6Gmv0_S",
        "outputId": "fc31c997-092e-463b-e3a7-1c23d70cdff0"
      },
      "execution_count": null,
      "outputs": [
        {
          "output_type": "stream",
          "name": "stdout",
          "text": [
            "Added user message to memory: how much total coverage do I have left?\n",
            "=== Calling Function ===\n",
            "Calling function: individual_document_search with args: {\"query\":\"total covered\",\"policy_id\":\"P/700002/01/2015/007530\"}\n",
            "After Reranking, new rank list for nodes: [0, 1, 2, 3, 4, 5, 6, 7]Got output: [{'Score': 0.8065974808576539, 'Text': \"Cancer|No|\\n|---|---|\\n|b. Chronic Kidney Disease|No|\\n|c. Brain Stroke/CVA|No|\\n|d. Parkinson's Disease|No|\\n|e. Alzheimer's Disease|No|\\n|f. Renal Complications|No|\\n|g. Heart Diseases|No|\\n\\nSocial Status: No\\n\\n## Premium Calculation\\n\\n|Cover Description|Sum Insured|Premium|\\n|---|---|---|\\n|Base Cover|300000|5400|\\n|TOTAL PREMIUM| |5400|\\n|STAMP DUTY| |1|\\n|ADD: SERVICE TAX| |667|\\n|TOTAL AMOUNT| |6067|\\n\\nDeclaration\\n\\nI hereby confirm that all the above information is true and correct according to my belief. I also agree that my policy is for cancellation in case any of the above entered information is found to be false/intentionally misrepresented.\\n\\nNote: Acceptance of Risk in case of persons suffering from any disease/ailments is subject to evaluation by our Medical Team\\n---\\nStar Health and Allied Insurance Company Limited\\n\\n|Customer ID No.|3629867-1|\\n|---|---|\\n|Name|ASHWANI KUMAR RAI|\\n|Date of Birth|10/07/1985|\\n|Age|28 Years|\\n|Gender|M|\\n|Valid From|03/07/2014|\\n|Office Code|700002|\\n\\nPersonal and Caring\\n\\nEmergency Help Line No. 1800 425 2255 / 044 2826 3300\\n\\nE-mail: support@starhealth.in Website: www.starhealth.in\\n\\nPlease quote the Customer ID No. for assistance\\n\\nImmediate intimation to Star through above Telephone number is a must in the case of Hospitalisation.\\n\\nThis card to be produced at the time of Hospitalization along with the valid photo identity proof.\\n\\nThis ID card is invalid, if the insurance cover is not in force.\\n\\nThis card is valid until otherwise cancelled.\"}, {'Score': 0.804322888122993, 'Text': 'No.|Name of the Insured|Sex|Date of Birth|Age-Yrs/Mths|Relationship with Proposer|Pre Existing Disease/s|ID Card No|\\n|---|---|---|---|---|---|---|---|\\n|1|ASHWANI KUMAR RAI|MALE|10-07-1985|28 Yrs 11 Mths|SELF|NONE|3629867-1|\\n|2|SUSHAMA RAI|FEMALE|01-07-1987|27 Yrs 0 Mths|SPOUSE|NONE|3629867-2|\\n|3|ASHUTOSH RAI|MALE|08-11-2012|1 Yrs 7 Mths|DEPENDANT|NONE|3629867-3|\\n\\nWarranted that in case of dishonor of premium cheque(s), the Company shall not be liable under the policy and the policy shall be void abinitio (from inception).\\n\\nExpenses relating to the hospitalisation will be in proportion to the room rent stated in the policy.\\n\\nTHE INSURANCE UNDER THIS POLICY IS SUBJECT TO CONDITIONS, CLAUSES, WARRANTIES, EXCLUSIONS ETC., ATTACHED.\\n\\nIMPORTANT: IN THE EVENT OF HOSPITALIZATION OF INSURED PERSON, INTIMATION SHOULD BE GIVEN TO THE COMPANY IMMEDIATELY, HOWEVER, WITHIN 24 HRS FROM THE TIME OF ADMISSION.\\n\\nToll Free No: 1800 425 2255 / 1800 102 4477 Email: support@starhealth.in Fax No: 1800 425 5522.\\n\\nIn the event of the policy being withdrawn in future, intimation about the withdrawal will be sent 3 months prior to the date when renewal falls due. The insured will have the option of migrating to any other similar health insurance policy offered by the Company at the relevant time. Continuity of benefits for waiting period and bonus, if any and if applicable, will be given provided the insured had been renewing the policy without any break (or renewing within the grace period offered).\\n\\nIn witness whereof the undersigned being authorized by and on behalf of the company has set his hand at Online Business on 02nd Day of July 2014.\\n\\nEntered By: STAR_PORTAL IRDA Regn.'}, {'Score': 0.7999536638697518, 'Text': '2.5.4.17=600034, OU=Star Health And Allied Insurance Company Limited, O=Star Health And Allied Insurance Company Limited, C=IN Date: 2014.07.02 11:33:55 IST\\n---\\n## STAR HEALTH AND ALLIED INSURANCE COMPANY LIMITED\\n\\nAttached to and forming part of Policy No. P/700002/01/2015/007530\\n\\nRevision in sum insured: In case of an upward revision in sum insured on renewal, in respect of disease, sickness, illness the sum insured will be restricted to that policy sum insured when the signs or symptoms were diagnosed or received medical advice or treatment.\\n\\nEntered By\\nSTAR_PORTAL\\nThis is an electronically generated document (Policy Schedule). \"Consolidated stamp paid vide certificate No.CSD/33/2014/2177 Dt.17/05/2014\"\\n\\nAuthorised Signatory\\n---\\n## STAR HEALTH AND ALLIED INSURANCE COMPANY LIMITED\\n\\n### Hospitalisation Benefit Policy\\n\\n|Policy No:|P/700002/01/2015/007530|\\n|---|---|\\n|Type Of Policy:|FHO-Policy|\\n|Issue Office:|700002 - Online Business|\\n|Address:|No:111-112, Gokul Arcade-A 1st Floor Sahar Road Vile Parle(East) Mumbai - 400057|\\n|Toll Free No:|1800-425-2255|\\n|Email:|online@starhealth.in|\\n\\nThis is to certify that ASHWANI KUMAR RAI has paid Rs 6067 (Total Premium In Words: Indian Rupees Six Thousand Sixty-Seven Only) towards Premium for Hospitalization Insurance vide Policy No: P/700002/01/2015/007530 for the Period 03-JUL-14 To 02-JUL-15 issued on 02-JUL-14.\\n\\nPayment received by Cheque/Credit/Debit Card vide collection No:\\n\\nNote: This Certificate must be surrendered to the Insurance Company for issuance of fresh Certificate in case of Cancellation of the Policy or any alteration in the Insurance affecting the Premium.\\n\\nFor Star Health and Allied Insurance Company Ltd.'}]\n",
            "========================\n",
            "\n",
            "=== Calling Function ===\n",
            "Calling function: coverage_left with args: {\"total_claimed\":10000,\"total_covered\":300000}\n",
            "Got output: 290000\n",
            "========================\n",
            "\n",
            "You have a total coverage of Rs. 300,000, and you have already claimed Rs. 10,000. Therefore, you have Rs. 290,000 coverage left on your policy. If you have any more questions or need further assistance, feel free to ask.\n"
          ]
        }
      ]
    },
    {
      "cell_type": "markdown",
      "source": [
        "## Question 5"
      ],
      "metadata": {
        "id": "1FsDGa6Fswt2"
      }
    },
    {
      "cell_type": "code",
      "source": [
        "response = agent.chat(\"Give me details of details of insured persons and their id card number as a table\")\n",
        "print(str(response))"
      ],
      "metadata": {
        "colab": {
          "base_uri": "https://localhost:8080/"
        },
        "id": "3rHumFAIwlNc",
        "outputId": "59089f9b-98ad-41a9-ae6e-23fb34a67893"
      },
      "execution_count": null,
      "outputs": [
        {
          "output_type": "stream",
          "name": "stdout",
          "text": [
            "Added user message to memory: Give me details of details of insured persons and their id card number as a table\n",
            "=== Calling Function ===\n",
            "Calling function: individual_document_search with args: {\"query\":\"insured persons\",\"policy_id\":\"P/700002/01/2015/007530\"}\n",
            "After Reranking, new rank list for nodes: [0, 1, 2, 3, 4, 5, 6, 7]Got output: [{'Score': 0.8692126776714286, 'Text': 'No.|Name of the Insured|Sex|Date of Birth|Age-Yrs/Mths|Relationship with Proposer|Pre Existing Disease/s|ID Card No|\\n|---|---|---|---|---|---|---|---|\\n|1|ASHWANI KUMAR RAI|MALE|10-07-1985|28 Yrs 11 Mths|SELF|NONE|3629867-1|\\n|2|SUSHAMA RAI|FEMALE|01-07-1987|27 Yrs 0 Mths|SPOUSE|NONE|3629867-2|\\n|3|ASHUTOSH RAI|MALE|08-11-2012|1 Yrs 7 Mths|DEPENDANT|NONE|3629867-3|\\n\\nWarranted that in case of dishonor of premium cheque(s), the Company shall not be liable under the policy and the policy shall be void abinitio (from inception).\\n\\nExpenses relating to the hospitalisation will be in proportion to the room rent stated in the policy.\\n\\nTHE INSURANCE UNDER THIS POLICY IS SUBJECT TO CONDITIONS, CLAUSES, WARRANTIES, EXCLUSIONS ETC., ATTACHED.\\n\\nIMPORTANT: IN THE EVENT OF HOSPITALIZATION OF INSURED PERSON, INTIMATION SHOULD BE GIVEN TO THE COMPANY IMMEDIATELY, HOWEVER, WITHIN 24 HRS FROM THE TIME OF ADMISSION.\\n\\nToll Free No: 1800 425 2255 / 1800 102 4477 Email: support@starhealth.in Fax No: 1800 425 5522.\\n\\nIn the event of the policy being withdrawn in future, intimation about the withdrawal will be sent 3 months prior to the date when renewal falls due. The insured will have the option of migrating to any other similar health insurance policy offered by the Company at the relevant time. Continuity of benefits for waiting period and bonus, if any and if applicable, will be given provided the insured had been renewing the policy without any break (or renewing within the grace period offered).\\n\\nIn witness whereof the undersigned being authorized by and on behalf of the company has set his hand at Online Business on 02nd Day of July 2014.\\n\\nEntered By: STAR_PORTAL IRDA Regn.'}, {'Score': 0.8551637835707828, 'Text': 'Payment received by Cheque/Credit/Debit Card vide collection No:\\n\\nNote: This Certificate must be surrendered to the Insurance Company for issuance of fresh Certificate in case of Cancellation of the Policy or any alteration in the Insurance affecting the Premium.\\n\\nFor Star Health and Allied Insurance Company Ltd.\\nAuthorised Signatory\\n---\\n## STAR HEALTH AND ALLIED INSURANCE COMPANY LIMITED\\n\\n### Family Health Optima\\n\\n|Proposer Details|\\n|---|\\n|Name:|ASHWANI KUMAR RAI|Mobile:|9013246272|\\n|Address:|E-48 A KUNWAR SINGH NAGAR NANGLOI|Email:|ashwanirai85@gmail.com|\\n| |NEAR NILOTHI MOR| | |\\n| |New Delhi, West, Delhi-110041| | |\\n|PAN:| | | |\\n\\n|Plan Details|\\n|---|\\n|Policy Start Date:|03-07-2014|\\n|Policy End Date:|02-07-2015|\\n|Policy Period:|From 03/07/2014 00:00:00 to Midnight Of 02/07/2015|\\n\\n|Insured Details|\\n|---|\\n|Insured 1|\\n|Insured Name:|ASHWANI KUMAR RAI|\\n|Gender:|MALE|\\n|Date of Birth:|10-07-1985|\\n|Relationship to the Proposer:|SELF|\\n|Pre Existing Disease:|NONE|\\n|Insured 2|\\n|Insured Name:|SUSHAMA RAI|\\n|Gender:|FEMALE|\\n|Date of Birth:|01-07-1987|\\n|Relationship to the Proposer:|SPOUSE|\\n|Pre Existing Disease:|NONE|\\n|Insured 3|\\n|Insured Name:|ASHUTOSH RAI|\\n|Gender:|MALE|\\n|Date of Birth:|08-11-2012|\\n|Relationship to the Proposer:|DEPENDANT CHILD|\\n|Pre Existing Disease:|NONE|\\n---\\nWhether any of the Insured Members covered in the policy has suffered/advised treatment for any of the following diseases:\\n\\n|a. Cancer|No|\\n|---|---|\\n|b. Chronic Kidney Disease|No|\\n|c. Brain Stroke/CVA|No|\\n|d.'}, {'Score': 0.8519284361091115, 'Text': 'Toll Free No: 1800 425 2255 / 1800 102 4477 Email: support@starhealth.in Fax No: 1800 425 5522.\\n\\nIn the event of the policy being withdrawn in future, intimation about the withdrawal will be sent 3 months prior to the date when renewal falls due. The insured will have the option of migrating to any other similar health insurance policy offered by the Company at the relevant time. Continuity of benefits for waiting period and bonus, if any and if applicable, will be given provided the insured had been renewing the policy without any break (or renewing within the grace period offered).\\n\\nIn witness whereof the undersigned being authorized by and on behalf of the company has set his hand at Online Business on 02nd Day of July 2014.\\n\\nEntered By: STAR_PORTAL IRDA Regn. No 129 Corporate Identity Number U66010TN2005PLC056649 Email ID: info@starhealth.in\\n\\nThis is an electronically generated document (Policy Schedule). \"Consolidated stamp paid vide certificate No.CSD/33/2014/2177 Dt.17/05/2014\" Authorised Signatory\\n\\nKannan S, SERIALNUMBER=f29a5b3b9c6f48e2841a06abb56c43b5ab5647325765c9667cc1b11bd05622a2, ST=Tamil Nadu, OID. 2.5.4.17=600034, OU=Star Health And Allied Insurance Company Limited, O=Star Health And Allied Insurance Company Limited, C=IN Date: 2014.07.02 11:33:55 IST\\n---\\n## STAR HEALTH AND ALLIED INSURANCE COMPANY LIMITED\\n\\nAttached to and forming part of Policy No. P/700002/01/2015/007530\\n\\nRevision in sum insured: In case of an upward revision in sum insured on renewal, in respect of disease, sickness, illness the sum insured will be restricted to that policy sum insured when the signs or symptoms were diagnosed or received medical advice or treatment.\\n\\nEntered By\\nSTAR_PORTAL\\nThis is an electronically generated document (Policy Schedule).'}]\n",
            "========================\n",
            "\n",
            "Here are the details of the insured persons and their ID card numbers:\n",
            "\n",
            "| No. | Name of the Insured | ID Card No |\n",
            "| --- | ------------------- | ---------- |\n",
            "| 1   | ASHWANI KUMAR RAI   | 3629867-1  |\n",
            "| 2   | SUSHAMA RAI         | 3629867-2  |\n",
            "| 3   | ASHUTOSH RAI        | 3629867-3  |\n",
            "\n",
            "If you need more information or have any other questions, feel free to ask.\n"
          ]
        }
      ]
    },
    {
      "cell_type": "markdown",
      "source": [
        "## Question 7"
      ],
      "metadata": {
        "id": "pjuvD5CWsyu3"
      }
    },
    {
      "cell_type": "code",
      "source": [
        "## Implement “appointments tool” and try to ask the question “Please book an appointment with a Dermatologist”"
      ],
      "metadata": {
        "id": "DJdWebCawrW5"
      },
      "execution_count": null,
      "outputs": []
    }
  ]
}